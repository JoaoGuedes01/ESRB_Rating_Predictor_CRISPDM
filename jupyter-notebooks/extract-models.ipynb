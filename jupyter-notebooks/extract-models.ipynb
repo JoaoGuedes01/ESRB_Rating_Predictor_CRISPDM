{
 "cells": [
  {
   "cell_type": "markdown",
   "id": "0d922be6",
   "metadata": {},
   "source": [
    "### Extração do Modelo de Data Mining\n",
    "Para a previsão do ESRB rating de cada jogo a carregar no Data Warehouse foi utilizado o algoritmo com melhor exatidão identificado pela equipa na fase de Evaluation, o MLP Classifier.\n",
    "<br>\n",
    "<br>Uma vez que nos foi entregue um dataset com as datas de lançamento dos jogos, o nosso cliente (Sony) pediu para prever todos os jogos com data de lançamento igual ou superior a 2019, sendo os restantes para treino do modelo. A partir do SweetViz conseguimos afirmar que os novos dados de treino e teste representam, ordenadamente, 62% e 38% do dataset (train.csv). Devido a isto, o valor de exatidão alterou de 87,54% para 85.19%, porém permanece no mesmo nível que o anterior (exatidão entre 85%-89%).\n",
    "<br>\n",
    "<br>Posto isto, treinamos o modelo e extraímos o mesmo com o auxílio da libraria joblib de Python para o ficheiro “MLP_Classifier.pkl”. Porém fizemos o mesmo para os outros modelos, para os utilizar no nosso previsor online, assim o utilizador pode escolher entre os diversos modelos estudados qual pretende utilizar para prever o rating do seu jogo.\n",
    "<br>\n",
    "<br>Com o modelo extraído, no passo transformation do ETL, apenas necessitamos de carregar o ficheiro do modelo e invocar o método predict com as features do cenário 2 (ordenadas pela ordem de treino) como parâmetros."
   ]
  },
  {
   "cell_type": "code",
   "execution_count": 1,
   "id": "cf7be344",
   "metadata": {},
   "outputs": [],
   "source": [
    "import pandas as pd\n",
    "\n",
    "# Models\n",
    "from sklearn.linear_model import SGDClassifier\n",
    "from sklearn.neighbors import KNeighborsClassifier\n",
    "from sklearn.tree import DecisionTreeClassifier\n",
    "from sklearn.svm import SVC\n",
    "from sklearn.svm import NuSVC\n",
    "from sklearn.neural_network import MLPClassifier\n",
    "from sklearn.ensemble import RandomForestClassifier\n",
    "from sklearn.ensemble import GradientBoostingClassifier\n",
    "from sklearn.linear_model import LogisticRegression\n",
    "from sklearn.discriminant_analysis import LinearDiscriminantAnalysis\n",
    "\n",
    "from imblearn.over_sampling import SMOTE\n",
    "\n",
    "# Extract Trained Model\n",
    "import joblib\n",
    "\n",
    "import warnings\n",
    "warnings.filterwarnings(\"ignore\")"
   ]
  },
  {
   "cell_type": "markdown",
   "id": "e2a5e9b4",
   "metadata": {},
   "source": [
    "### Load Variables"
   ]
  },
  {
   "cell_type": "code",
   "execution_count": 2,
   "id": "58c3b8d5",
   "metadata": {},
   "outputs": [],
   "source": [
    "# Models (Dictionary)\n",
    "state = 0\n",
    "models = {\n",
    "    \"SGD_Classifier\":{\n",
    "        \"best_estimator\":SGDClassifier(loss='log', max_iter=2000, penalty='l1', random_state=state)\n",
    "    },\n",
    "    \"Linear_Discriminant_Analysis\":{\n",
    "        \"best_estimator\":LinearDiscriminantAnalysis(store_covariance=True)\n",
    "    },\n",
    "    \"K_Neighbors_Classifier\":{\n",
    "        \"best_estimator\":KNeighborsClassifier(algorithm='ball_tree', n_neighbors=9, weights='distance')\n",
    "    },\n",
    "    \"Logistic_Regression\":{\n",
    "        \"best_estimator\":LogisticRegression(penalty='none', random_state=state, solver='saga')\n",
    "    },\n",
    "    \"Decision_Tree_Classifier\":{\n",
    "        \"best_estimator\":DecisionTreeClassifier(criterion='entropy', random_state=state)\n",
    "    },\n",
    "    \"SVC\":{\n",
    "        \"best_estimator\":SVC(C=10, gamma=0.1, probability=True, random_state=state)\n",
    "    },\n",
    "    \"Nu_SVC\":{\n",
    "        \"best_estimator\":NuSVC(gamma=0.1, nu=0.2, probability=True, random_state=state)\n",
    "    },\n",
    "    \"MLP_Classifier\":{\n",
    "        \"best_estimator\":MLPClassifier(alpha=0.05, max_iter=2000, random_state=state, solver='lbfgs')\n",
    "    },\n",
    "    \"Random_Forest_Classifier\":{\n",
    "        \"best_estimator\":RandomForestClassifier(criterion='entropy', n_estimators=150, random_state=state)\n",
    "    },\n",
    "    \"Gradient_Boosting_Classifier\":{\n",
    "        \"best_estimator\":GradientBoostingClassifier(learning_rate=0.15, max_depth=7,\n",
    "                           min_samples_split=40, n_estimators=500,\n",
    "                           random_state=state)\n",
    "    }\n",
    "}"
   ]
  },
  {
   "cell_type": "markdown",
   "id": "961a8aad",
   "metadata": {},
   "source": [
    "### Extract Models"
   ]
  },
  {
   "cell_type": "code",
   "execution_count": 3,
   "id": "680e85d2",
   "metadata": {},
   "outputs": [
    {
     "name": "stdout",
     "output_type": "stream",
     "text": [
      "SGD_Classifier                 -> acc: 0.8037\n",
      "Linear_Discriminant_Analysis   -> acc: 0.73889\n",
      "K_Neighbors_Classifier         -> acc: 0.80185\n",
      "Logistic_Regression            -> acc: 0.84259\n",
      "Decision_Tree_Classifier       -> acc: 0.80556\n",
      "SVC                            -> acc: 0.83704\n",
      "Nu_SVC                         -> acc: 0.82593\n",
      "MLP_Classifier                 -> acc: 0.85185\n",
      "Random_Forest_Classifier       -> acc: 0.82037\n",
      "Gradient_Boosting_Classifier   -> acc: 0.82778\n"
     ]
    }
   ],
   "source": [
    "data = pd.read_csv('data/data_merged.csv')\n",
    "oversample = SMOTE(random_state=3390)\n",
    "year = 2019\n",
    "\n",
    "for name, m in models.items():\n",
    "    # Scenery 2 - Features\n",
    "    games = data[['no_descriptors', 'strong_language', 'blood_and_gore', 'fantasy_violence', 'blood',\n",
    "                          'mild_fantasy_violence', 'strong_sexual_content', 'sexual_themes', 'intense_violence',\n",
    "                          'suggestive_themes', 'violence', 'simulated_gambling', 'sexual_content', 'language',\n",
    "                          'mild_blood', 'mild_suggestive_themes', 'crude_humor', 'mild_violence', 'mild_lyrics',\n",
    "                          'cartoon_violence', 'alcohol_reference', 'lyrics', 'drug_reference', 'use_of_alcohol',\n",
    "                          'partial_nudity', 'nudity', 'mild_cartoon_violence', 'animated_blood', 'esrb_rating', 'release_year']]\n",
    "    mapp = {'E':0, 'ET':1, 'T':2, 'M':3}\n",
    "    games['esrb_rating'] = games['esrb_rating'].map(mapp)\n",
    "    \n",
    "    train = games[games['release_year'] < year]\n",
    "    X_train, y_train = train.iloc[:,0:28], train.iloc[:,28]\n",
    "    X_train, y_train = oversample.fit_resample(X_train, y_train)\n",
    "\n",
    "    clf = m['best_estimator']\n",
    "    clf.fit(X_train, y_train);\n",
    "    joblib.dump(clf,f'models/{name}.pkl')\n",
    "    \n",
    "    # The following lines of code aren't needed for extract the models\n",
    "    # It's only for veridyinf the new accuracy\n",
    "    test = games[games['release_year'] >= year]\n",
    "    X_test, y_test = test.iloc[:,0:28], test.iloc[:,28]\n",
    "    print(f\"{name:30} -> acc: {round(clf.score(X_test,y_test),5)}\")"
   ]
  },
  {
   "cell_type": "code",
   "execution_count": null,
   "id": "0d6c9a34",
   "metadata": {},
   "outputs": [],
   "source": []
  }
 ],
 "metadata": {
  "kernelspec": {
   "display_name": "Python 3 (ipykernel)",
   "language": "python",
   "name": "python3"
  },
  "language_info": {
   "codemirror_mode": {
    "name": "ipython",
    "version": 3
   },
   "file_extension": ".py",
   "mimetype": "text/x-python",
   "name": "python",
   "nbconvert_exporter": "python",
   "pygments_lexer": "ipython3",
   "version": "3.9.6"
  }
 },
 "nbformat": 4,
 "nbformat_minor": 5
}
